{
 "cells": [
  {
   "cell_type": "markdown",
   "metadata": {},
   "source": [
    "# Hacking Incident\n",
    "\n",
    "We're being hacked! We need your help to get a message to the main server.\n",
    "\n",
    "We need you to accomplish 3 tasks:\n",
    "\n",
    "1. Create a Caeser cipher encryption function.\n",
    "2. Create another function that decrypts a Caeser cipher message.\n",
    "\n",
    "We've set up a framework for you to follow here in this notebook. Feel free to use it, or create your own base functions."
   ]
  },
  {
   "cell_type": "markdown",
   "metadata": {},
   "source": [
    "## Encryption Function\n",
    "\n",
    "This function should take in two parameters, the plain text message and the shift number for the Caeser cipher.\n",
    "\n",
    "To create the cipher you will need to create a list of the alphabet. You can either write out the alphabet manually, or use the [string library](https://docs.python.org/3/library/string.html?highlight=string#module-string) to get all the lowercase alphabet. You will first need to run *import string* , and then call the attribute. For example:\n",
    "\n",
    "    import string\n",
    "    alphabet = string.ascii_lowercase\n",
    "    print(alphabet)\n",
    "    print(list(alphabet))\n",
    "    \n",
    "An empty function with some comments is here below for you to fill out:"
   ]
  },
  {
   "cell_type": "code",
   "execution_count": 4,
   "metadata": {
    "collapsed": true
   },
   "outputs": [],
   "source": [
    "def encrypt(text,shift):\n",
    "    '''\n",
    "    INPUT: text as a string and an integer for the shift value.\n",
    "    OUTPUT: The shifted text after being run through the Caeser cipher.\n",
    "    '''\n",
    "    \n",
    "    # Create a normal plain alphabet\n",
    "    alphabet = 'abcdefghijklmnopqrstuvwxyz'\n",
    "    # Create a shifted version of this alphabet \n",
    "    shifted_alphabet = alphabet[shift:] + alphabet[:shift]\n",
    "    # (Try slicing using the shift and then reconcatenating the two parts)\n",
    "    \n",
    "    # Use a for loop to go through each character in the original message.\n",
    "    # Then figure out its index match in the shifted alphabet and replace.\n",
    "    # It might be helpful to create an output variable to hold the new message.\n",
    "    encoded_text = []\n",
    "    for char in text:\n",
    "        char_lower = char.lower()  # Convert the character to lowercase\n",
    "        if char_lower in alphabet:\n",
    "            index = alphabet.index(char_lower)\n",
    "            if char.isupper():  # Check if the original character was uppercase\n",
    "                encoded_text.append(shifted_alphabet[index].upper())\n",
    "            else:\n",
    "                encoded_text.append(shifted_alphabet[index])\n",
    "        else:\n",
    "            encoded_text.append(char)\n",
    "   \n",
    "    \n",
    "    return ''.join(encoded_text)\n",
    "   "
   ]
  },
  {
   "cell_type": "markdown",
   "metadata": {},
   "source": [
    "** An example input and output: **"
   ]
  },
  {
   "cell_type": "code",
   "execution_count": 5,
   "metadata": {},
   "outputs": [
    {
     "data": {
      "text/plain": [
       "'Trg guvf zrffntr gb gur znva freire'"
      ]
     },
     "execution_count": 5,
     "metadata": {},
     "output_type": "execute_result"
    }
   ],
   "source": [
    "encrypt('Get this message to the main server',13)"
   ]
  },
  {
   "cell_type": "markdown",
   "metadata": {},
   "source": [
    "## Decryption\n",
    "\n",
    "Now create a new function that will \"decrypt\" a shifted message. It should basically do the reverse of the encryption function. The process will be very similar as your previous function, but the alphabets will be switched."
   ]
  },
  {
   "cell_type": "code",
   "execution_count": 10,
   "metadata": {
    "collapsed": true
   },
   "outputs": [],
   "source": [
    "def decrypt(text,shift):\n",
    "    '''\n",
    "    INPUT: A shifted message and the integer shift value\n",
    "    OUTPUT: The plain text original message.\n",
    "    '''\n",
    "    \n",
    "    # Create a normal plain alphabet\n",
    "    alphabet = 'abcdefghijklmnopqrstuvwxyz'\n",
    "    # Create a shifted version of this alphabet with the shift value.\n",
    "    shifted_alphabet = alphabet[shift:] + alphabet[:shift]\n",
    "    # Use a for loop to go through each character in the encrypted message.\n",
    "    # Then figure out its index match in the plain alphabet and replace.\n",
    "    # It might be helpful to create an output variable to hold the new message.\n",
    "    decrypted_text = []\n",
    "    for char in text:\n",
    "        char_lower = char.lower()  # Convert the character to lowercase\n",
    "        if char_lower in shifted_alphabet:\n",
    "            index = shifted_alphabet.index(char_lower)\n",
    "            if char.isupper():  # Check if the original character was uppercase\n",
    "                decrypted_text.append(alphabet[index].upper())\n",
    "            else:\n",
    "                decrypted_text.append(alphabet[index])\n",
    "        else:\n",
    "            decrypted_text.append(char)\n",
    "    # Keep in mind you may want to skip punctuation with an if statement.\n",
    "    \n",
    "    # Return the original message. Use ''.join() method \n",
    "    # if you still have it as a list.\n",
    "    \n",
    "    return ''.join(decrypted_text)"
   ]
  },
  {
   "cell_type": "markdown",
   "metadata": {},
   "source": [
    "** Here is an example output: **"
   ]
  },
  {
   "cell_type": "code",
   "execution_count": 15,
   "metadata": {},
   "outputs": [
    {
     "data": {
      "text/plain": [
       "'Get this message to the main server'"
      ]
     },
     "execution_count": 15,
     "metadata": {},
     "output_type": "execute_result"
    }
   ],
   "source": [
    "decrypt('Trg guvf zrffntr gb gur znva freire',13)"
   ]
  }
 ],
 "metadata": {
  "kernelspec": {
   "display_name": "Python 3",
   "language": "python",
   "name": "python3"
  },
  "language_info": {
   "codemirror_mode": {
    "name": "ipython",
    "version": 3
   },
   "file_extension": ".py",
   "mimetype": "text/x-python",
   "name": "python",
   "nbconvert_exporter": "python",
   "pygments_lexer": "ipython3",
   "version": "3.11.5"
  }
 },
 "nbformat": 4,
 "nbformat_minor": 2
}
